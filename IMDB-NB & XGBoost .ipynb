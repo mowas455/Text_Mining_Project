{
 "cells": [
  {
   "cell_type": "code",
   "execution_count": 1,
   "id": "b2998224",
   "metadata": {
    "_cell_guid": "b1076dfc-b9ad-4769-8c92-a6c4dae69d19",
    "_uuid": "8f2839f25d086af736a60e9eeb907d3b93b6e0e5",
    "execution": {
     "iopub.execute_input": "2022-03-19T18:14:06.383362Z",
     "iopub.status.busy": "2022-03-19T18:14:06.381573Z",
     "iopub.status.idle": "2022-03-19T18:14:06.401134Z",
     "shell.execute_reply": "2022-03-19T18:14:06.401608Z",
     "shell.execute_reply.started": "2022-03-12T20:09:27.691816Z"
    },
    "papermill": {
     "duration": 0.056841,
     "end_time": "2022-03-19T18:14:06.401885",
     "exception": false,
     "start_time": "2022-03-19T18:14:06.345044",
     "status": "completed"
    },
    "tags": []
   },
   "outputs": [
    {
     "name": "stdout",
     "output_type": "stream",
     "text": [
      "/kaggle/input/imdb-spoiler-dataset/IMDB_movie_details.json\n",
      "/kaggle/input/imdb-spoiler-dataset/IMDB_reviews.json\n"
     ]
    }
   ],
   "source": [
    "# This Python 3 environment comes with many helpful analytics libraries installed\n",
    "# It is defined by the kaggle/python Docker image: https://github.com/kaggle/docker-python\n",
    "# For example, here's several helpful packages to load\n",
    "\n",
    "import numpy as np # linear algebra\n",
    "import pandas as pd # data processing, CSV file I/O (e.g. pd.read_csv)\n",
    "\n",
    "# Input data files are available in the read-only \"../input/\" directory\n",
    "# For example, running this (by clicking run or pressing Shift+Enter) will list all files under the input directory\n",
    "\n",
    "import os\n",
    "for dirname, _, filenames in os.walk('/kaggle/input'):\n",
    "    for filename in filenames:\n",
    "        print(os.path.join(dirname, filename))\n",
    "\n",
    "# You can write up to 20GB to the current directory (/kaggle/working/) that gets preserved as output when you create a version using \"Save & Run All\" \n",
    "# You can also write temporary files to /kaggle/temp/, but they won't be saved outside of the current session"
   ]
  },
  {
   "cell_type": "markdown",
   "id": "2e1a4a42",
   "metadata": {
    "papermill": {
     "duration": 0.029533,
     "end_time": "2022-03-19T18:14:06.461855",
     "exception": false,
     "start_time": "2022-03-19T18:14:06.432322",
     "status": "completed"
    },
    "tags": []
   },
   "source": [
    "# Libraries"
   ]
  },
  {
   "cell_type": "code",
   "execution_count": 2,
   "id": "488d7d85",
   "metadata": {
    "execution": {
     "iopub.execute_input": "2022-03-19T18:14:06.526997Z",
     "iopub.status.busy": "2022-03-19T18:14:06.526302Z",
     "iopub.status.idle": "2022-03-19T18:14:07.500971Z",
     "shell.execute_reply": "2022-03-19T18:14:07.501482Z",
     "shell.execute_reply.started": "2022-03-12T20:09:27.731889Z"
    },
    "papermill": {
     "duration": 1.009729,
     "end_time": "2022-03-19T18:14:07.501644",
     "exception": false,
     "start_time": "2022-03-19T18:14:06.491915",
     "status": "completed"
    },
    "tags": []
   },
   "outputs": [],
   "source": [
    "import pandas as pd\n",
    "import seaborn as sns\n",
    "import matplotlib.pyplot as plt\n",
    "###\n",
    "from sklearn.dummy import DummyClassifier\n",
    "from sklearn.naive_bayes import BernoulliNB\n",
    "####\n",
    "from sklearn.feature_extraction.text import CountVectorizer\n",
    "from sklearn.feature_extraction.text import TfidfTransformer\n",
    "from sklearn.preprocessing import StandardScaler\n",
    "from sklearn.pipeline import Pipeline\n",
    "#####\n",
    "from sklearn.metrics import classification_report\n",
    "from sklearn.metrics import roc_auc_score\n",
    "from sklearn.model_selection import train_test_split\n",
    "\n",
    "# Creation of confusion matrix in using sklearn\n",
    "from sklearn.metrics import confusion_matrix\n",
    "from sklearn.metrics import ConfusionMatrixDisplay\n",
    "from sklearn.metrics import plot_confusion_matrix\n"
   ]
  },
  {
   "cell_type": "markdown",
   "id": "a847650e",
   "metadata": {
    "papermill": {
     "duration": 0.06131,
     "end_time": "2022-03-19T18:14:07.626849",
     "exception": false,
     "start_time": "2022-03-19T18:14:07.565539",
     "status": "completed"
    },
    "tags": []
   },
   "source": [
    "## **Data Extraction and Preprocessing**"
   ]
  },
  {
   "cell_type": "code",
   "execution_count": 3,
   "id": "cac371f2",
   "metadata": {
    "execution": {
     "iopub.execute_input": "2022-03-19T18:14:07.725485Z",
     "iopub.status.busy": "2022-03-19T18:14:07.724433Z",
     "iopub.status.idle": "2022-03-19T18:14:28.731235Z",
     "shell.execute_reply": "2022-03-19T18:14:28.730704Z",
     "shell.execute_reply.started": "2022-03-12T20:09:28.655237Z"
    },
    "papermill": {
     "duration": 21.057777,
     "end_time": "2022-03-19T18:14:28.731377",
     "exception": false,
     "start_time": "2022-03-19T18:14:07.673600",
     "status": "completed"
    },
    "tags": []
   },
   "outputs": [],
   "source": [
    "df_reviews = pd.read_json('../input/imdb-spoiler-dataset/IMDB_reviews.json', lines=True)\n",
    "df_details = pd.read_json('../input/imdb-spoiler-dataset/IMDB_movie_details.json',lines =True)"
   ]
  },
  {
   "cell_type": "code",
   "execution_count": 4,
   "id": "7a09b36b",
   "metadata": {
    "execution": {
     "iopub.execute_input": "2022-03-19T18:14:28.794353Z",
     "iopub.status.busy": "2022-03-19T18:14:28.793562Z",
     "iopub.status.idle": "2022-03-19T18:14:28.796631Z",
     "shell.execute_reply": "2022-03-19T18:14:28.797259Z",
     "shell.execute_reply.started": "2022-03-12T20:09:52.030229Z"
    },
    "papermill": {
     "duration": 0.036961,
     "end_time": "2022-03-19T18:14:28.797449",
     "exception": false,
     "start_time": "2022-03-19T18:14:28.760488",
     "status": "completed"
    },
    "tags": []
   },
   "outputs": [
    {
     "name": "stdout",
     "output_type": "stream",
     "text": [
      "(573913, 7)\n",
      "(1572, 7)\n"
     ]
    }
   ],
   "source": [
    "print(df_reviews.shape)\n",
    "print(df_details.shape)"
   ]
  },
  {
   "cell_type": "code",
   "execution_count": 5,
   "id": "061ae988",
   "metadata": {
    "execution": {
     "iopub.execute_input": "2022-03-19T18:14:28.864269Z",
     "iopub.status.busy": "2022-03-19T18:14:28.863502Z",
     "iopub.status.idle": "2022-03-19T18:14:28.875871Z",
     "shell.execute_reply": "2022-03-19T18:14:28.876287Z",
     "shell.execute_reply.started": "2022-03-12T20:09:52.03931Z"
    },
    "papermill": {
     "duration": 0.047402,
     "end_time": "2022-03-19T18:14:28.876426",
     "exception": false,
     "start_time": "2022-03-19T18:14:28.829024",
     "status": "completed"
    },
    "tags": []
   },
   "outputs": [
    {
     "data": {
      "text/html": [
       "<div>\n",
       "<style scoped>\n",
       "    .dataframe tbody tr th:only-of-type {\n",
       "        vertical-align: middle;\n",
       "    }\n",
       "\n",
       "    .dataframe tbody tr th {\n",
       "        vertical-align: top;\n",
       "    }\n",
       "\n",
       "    .dataframe thead th {\n",
       "        text-align: right;\n",
       "    }\n",
       "</style>\n",
       "<table border=\"1\" class=\"dataframe\">\n",
       "  <thead>\n",
       "    <tr style=\"text-align: right;\">\n",
       "      <th></th>\n",
       "      <th>review_date</th>\n",
       "      <th>movie_id</th>\n",
       "      <th>user_id</th>\n",
       "      <th>is_spoiler</th>\n",
       "      <th>review_text</th>\n",
       "      <th>rating</th>\n",
       "      <th>review_summary</th>\n",
       "    </tr>\n",
       "  </thead>\n",
       "  <tbody>\n",
       "    <tr>\n",
       "      <th>0</th>\n",
       "      <td>10 February 2006</td>\n",
       "      <td>tt0111161</td>\n",
       "      <td>ur1898687</td>\n",
       "      <td>True</td>\n",
       "      <td>In its Oscar year, Shawshank Redemption (writt...</td>\n",
       "      <td>10</td>\n",
       "      <td>A classic piece of unforgettable film-making.</td>\n",
       "    </tr>\n",
       "    <tr>\n",
       "      <th>1</th>\n",
       "      <td>6 September 2000</td>\n",
       "      <td>tt0111161</td>\n",
       "      <td>ur0842118</td>\n",
       "      <td>True</td>\n",
       "      <td>The Shawshank Redemption is without a doubt on...</td>\n",
       "      <td>10</td>\n",
       "      <td>Simply amazing. The best film of the 90's.</td>\n",
       "    </tr>\n",
       "    <tr>\n",
       "      <th>2</th>\n",
       "      <td>3 August 2001</td>\n",
       "      <td>tt0111161</td>\n",
       "      <td>ur1285640</td>\n",
       "      <td>True</td>\n",
       "      <td>I believe that this film is the best story eve...</td>\n",
       "      <td>8</td>\n",
       "      <td>The best story ever told on film</td>\n",
       "    </tr>\n",
       "    <tr>\n",
       "      <th>3</th>\n",
       "      <td>1 September 2002</td>\n",
       "      <td>tt0111161</td>\n",
       "      <td>ur1003471</td>\n",
       "      <td>True</td>\n",
       "      <td>**Yes, there are SPOILERS here**This film has ...</td>\n",
       "      <td>10</td>\n",
       "      <td>Busy dying or busy living?</td>\n",
       "    </tr>\n",
       "    <tr>\n",
       "      <th>4</th>\n",
       "      <td>20 May 2004</td>\n",
       "      <td>tt0111161</td>\n",
       "      <td>ur0226855</td>\n",
       "      <td>True</td>\n",
       "      <td>At the heart of this extraordinary movie is a ...</td>\n",
       "      <td>8</td>\n",
       "      <td>Great story, wondrously told and acted</td>\n",
       "    </tr>\n",
       "  </tbody>\n",
       "</table>\n",
       "</div>"
      ],
      "text/plain": [
       "        review_date   movie_id    user_id  is_spoiler  \\\n",
       "0  10 February 2006  tt0111161  ur1898687        True   \n",
       "1  6 September 2000  tt0111161  ur0842118        True   \n",
       "2     3 August 2001  tt0111161  ur1285640        True   \n",
       "3  1 September 2002  tt0111161  ur1003471        True   \n",
       "4       20 May 2004  tt0111161  ur0226855        True   \n",
       "\n",
       "                                         review_text  rating  \\\n",
       "0  In its Oscar year, Shawshank Redemption (writt...      10   \n",
       "1  The Shawshank Redemption is without a doubt on...      10   \n",
       "2  I believe that this film is the best story eve...       8   \n",
       "3  **Yes, there are SPOILERS here**This film has ...      10   \n",
       "4  At the heart of this extraordinary movie is a ...       8   \n",
       "\n",
       "                                  review_summary  \n",
       "0  A classic piece of unforgettable film-making.  \n",
       "1     Simply amazing. The best film of the 90's.  \n",
       "2               The best story ever told on film  \n",
       "3                     Busy dying or busy living?  \n",
       "4         Great story, wondrously told and acted  "
      ]
     },
     "execution_count": 5,
     "metadata": {},
     "output_type": "execute_result"
    }
   ],
   "source": [
    "df_reviews.head()                                                                                                                                                                                                                                                                                                                            "
   ]
  },
  {
   "cell_type": "code",
   "execution_count": 6,
   "id": "91b5ad31",
   "metadata": {
    "execution": {
     "iopub.execute_input": "2022-03-19T18:14:28.949558Z",
     "iopub.status.busy": "2022-03-19T18:14:28.948765Z",
     "iopub.status.idle": "2022-03-19T18:14:28.951842Z",
     "shell.execute_reply": "2022-03-19T18:14:28.952293Z",
     "shell.execute_reply.started": "2022-03-12T20:09:52.061336Z"
    },
    "papermill": {
     "duration": 0.046361,
     "end_time": "2022-03-19T18:14:28.952432",
     "exception": false,
     "start_time": "2022-03-19T18:14:28.906071",
     "status": "completed"
    },
    "tags": []
   },
   "outputs": [
    {
     "data": {
      "text/html": [
       "<div>\n",
       "<style scoped>\n",
       "    .dataframe tbody tr th:only-of-type {\n",
       "        vertical-align: middle;\n",
       "    }\n",
       "\n",
       "    .dataframe tbody tr th {\n",
       "        vertical-align: top;\n",
       "    }\n",
       "\n",
       "    .dataframe thead th {\n",
       "        text-align: right;\n",
       "    }\n",
       "</style>\n",
       "<table border=\"1\" class=\"dataframe\">\n",
       "  <thead>\n",
       "    <tr style=\"text-align: right;\">\n",
       "      <th></th>\n",
       "      <th>movie_id</th>\n",
       "      <th>plot_summary</th>\n",
       "      <th>duration</th>\n",
       "      <th>genre</th>\n",
       "      <th>rating</th>\n",
       "      <th>release_date</th>\n",
       "      <th>plot_synopsis</th>\n",
       "    </tr>\n",
       "  </thead>\n",
       "  <tbody>\n",
       "    <tr>\n",
       "      <th>0</th>\n",
       "      <td>tt0105112</td>\n",
       "      <td>Former CIA analyst, Jack Ryan is in England wi...</td>\n",
       "      <td>1h 57min</td>\n",
       "      <td>[Action, Thriller]</td>\n",
       "      <td>6.9</td>\n",
       "      <td>1992-06-05</td>\n",
       "      <td>Jack Ryan (Ford) is on a \"working vacation\" in...</td>\n",
       "    </tr>\n",
       "    <tr>\n",
       "      <th>1</th>\n",
       "      <td>tt1204975</td>\n",
       "      <td>Billy (Michael Douglas), Paddy (Robert De Niro...</td>\n",
       "      <td>1h 45min</td>\n",
       "      <td>[Comedy]</td>\n",
       "      <td>6.6</td>\n",
       "      <td>2013-11-01</td>\n",
       "      <td>Four boys around the age of 10 are friends in ...</td>\n",
       "    </tr>\n",
       "    <tr>\n",
       "      <th>2</th>\n",
       "      <td>tt0243655</td>\n",
       "      <td>The setting is Camp Firewood, the year 1981. I...</td>\n",
       "      <td>1h 37min</td>\n",
       "      <td>[Comedy, Romance]</td>\n",
       "      <td>6.7</td>\n",
       "      <td>2002-04-11</td>\n",
       "      <td></td>\n",
       "    </tr>\n",
       "    <tr>\n",
       "      <th>3</th>\n",
       "      <td>tt0040897</td>\n",
       "      <td>Fred C. Dobbs and Bob Curtin, both down on the...</td>\n",
       "      <td>2h 6min</td>\n",
       "      <td>[Adventure, Drama, Western]</td>\n",
       "      <td>8.3</td>\n",
       "      <td>1948-01-24</td>\n",
       "      <td>Fred Dobbs (Humphrey Bogart) and Bob Curtin (T...</td>\n",
       "    </tr>\n",
       "    <tr>\n",
       "      <th>4</th>\n",
       "      <td>tt0126886</td>\n",
       "      <td>Tracy Flick is running unopposed for this year...</td>\n",
       "      <td>1h 43min</td>\n",
       "      <td>[Comedy, Drama, Romance]</td>\n",
       "      <td>7.3</td>\n",
       "      <td>1999-05-07</td>\n",
       "      <td>Jim McAllister (Matthew Broderick) is a much-a...</td>\n",
       "    </tr>\n",
       "  </tbody>\n",
       "</table>\n",
       "</div>"
      ],
      "text/plain": [
       "    movie_id                                       plot_summary  duration  \\\n",
       "0  tt0105112  Former CIA analyst, Jack Ryan is in England wi...  1h 57min   \n",
       "1  tt1204975  Billy (Michael Douglas), Paddy (Robert De Niro...  1h 45min   \n",
       "2  tt0243655  The setting is Camp Firewood, the year 1981. I...  1h 37min   \n",
       "3  tt0040897  Fred C. Dobbs and Bob Curtin, both down on the...   2h 6min   \n",
       "4  tt0126886  Tracy Flick is running unopposed for this year...  1h 43min   \n",
       "\n",
       "                         genre  rating release_date  \\\n",
       "0           [Action, Thriller]     6.9   1992-06-05   \n",
       "1                     [Comedy]     6.6   2013-11-01   \n",
       "2            [Comedy, Romance]     6.7   2002-04-11   \n",
       "3  [Adventure, Drama, Western]     8.3   1948-01-24   \n",
       "4     [Comedy, Drama, Romance]     7.3   1999-05-07   \n",
       "\n",
       "                                       plot_synopsis  \n",
       "0  Jack Ryan (Ford) is on a \"working vacation\" in...  \n",
       "1  Four boys around the age of 10 are friends in ...  \n",
       "2                                                     \n",
       "3  Fred Dobbs (Humphrey Bogart) and Bob Curtin (T...  \n",
       "4  Jim McAllister (Matthew Broderick) is a much-a...  "
      ]
     },
     "execution_count": 6,
     "metadata": {},
     "output_type": "execute_result"
    }
   ],
   "source": [
    "df_details.head()"
   ]
  },
  {
   "cell_type": "code",
   "execution_count": 7,
   "id": "b9414e3f",
   "metadata": {
    "execution": {
     "iopub.execute_input": "2022-03-19T18:14:29.022709Z",
     "iopub.status.busy": "2022-03-19T18:14:29.022024Z",
     "iopub.status.idle": "2022-03-19T18:14:29.224300Z",
     "shell.execute_reply": "2022-03-19T18:14:29.223852Z",
     "shell.execute_reply.started": "2022-03-12T20:09:52.077657Z"
    },
    "papermill": {
     "duration": 0.241384,
     "end_time": "2022-03-19T18:14:29.224424",
     "exception": false,
     "start_time": "2022-03-19T18:14:28.983040",
     "status": "completed"
    },
    "tags": []
   },
   "outputs": [
    {
     "data": {
      "image/png": "[encoded data removed]",
      "text/plain": [
       "<Figure size 432x288 with 1 Axes>"
      ]
     },
     "metadata": {
      "needs_background": "light"
     },
     "output_type": "display_data"
    }
   ],
   "source": [
    "df_reviews[\"is_spoiler\"].value_counts().plot(kind= \"bar\")\n",
    "plt.show()"
   ]
  },
  {
   "cell_type": "code",
   "execution_count": 8,
   "id": "696b3afc",
   "metadata": {
    "execution": {
     "iopub.execute_input": "2022-03-19T18:14:29.295550Z",
     "iopub.status.busy": "2022-03-19T18:14:29.294421Z",
     "iopub.status.idle": "2022-03-19T18:14:30.711324Z",
     "shell.execute_reply": "2022-03-19T18:14:30.711746Z",
     "shell.execute_reply.started": "2022-03-12T20:09:52.277189Z"
    },
    "papermill": {
     "duration": 1.457474,
     "end_time": "2022-03-19T18:14:30.711928",
     "exception": false,
     "start_time": "2022-03-19T18:14:29.254454",
     "status": "completed"
    },
    "tags": []
   },
   "outputs": [
    {
     "data": {
      "image/png": "[encoded data removed]",
      "text/plain": [
       "<Figure size 1152x576 with 2 Axes>"
      ]
     },
     "metadata": {},
     "output_type": "display_data"
    }
   ],
   "source": [
    "##### Extract the information from the data\n",
    "spoiler_df = pd.DataFrame()\n",
    "spoiler_df[\"is_spoiler\"] = df_reviews[\"is_spoiler\"] \n",
    "spoiler_df[\"has_a_word_spoiler\"] = df_reviews[\"review_text\"].apply(lambda \n",
    "                                                                  text : True if \"spoiler\" in text \n",
    "                                                                  else False)\n",
    "\n",
    "pie1 = spoiler_df['is_spoiler'].value_counts().reset_index().sort_values(by='index')\n",
    "pie2 = spoiler_df[\"has_a_word_spoiler\"].value_counts().reset_index().sort_values(by='index')\n",
    "\n",
    "with plt.style.context('seaborn-talk'):\n",
    "    fig = plt.figure(figsize=(16, 8))\n",
    "\n",
    "    ax1 = fig.add_subplot(1, 2, 1)\n",
    "    ax2 = fig.add_subplot(1, 2, 2)\n",
    "\n",
    "    ax1.pie(pie1['is_spoiler'])\n",
    "    ax1.set_title('All reviews')\n",
    "\n",
    "    ax2.pie(pie2['has_a_word_spoiler'])\n",
    "    ax2.set_title('Reviews containing the word \\'spoiler\\'')\n",
    "\n",
    "    plt.suptitle('Spoiler distribution within the reviews', fontsize=20)\n",
    "    fig.legend(labels=['Without spoilers(False)', 'With spoilers(True)'], loc='center')\n",
    "\n",
    "    plt.show()"
   ]
  },
  {
   "cell_type": "markdown",
   "id": "ba14f8b8",
   "metadata": {
    "papermill": {
     "duration": 0.031508,
     "end_time": "2022-03-19T18:14:30.774739",
     "exception": false,
     "start_time": "2022-03-19T18:14:30.743231",
     "status": "completed"
    },
    "tags": []
   },
   "source": [
    "## **Picked a Small Batch of data to choose a best model for classification**"
   ]
  },
  {
   "cell_type": "code",
   "execution_count": 9,
   "id": "c3457237",
   "metadata": {
    "execution": {
     "iopub.execute_input": "2022-03-19T18:14:30.846130Z",
     "iopub.status.busy": "2022-03-19T18:14:30.845220Z",
     "iopub.status.idle": "2022-03-19T18:14:30.847083Z",
     "shell.execute_reply": "2022-03-19T18:14:30.847533Z",
     "shell.execute_reply.started": "2022-03-12T20:09:53.651046Z"
    },
    "papermill": {
     "duration": 0.041441,
     "end_time": "2022-03-19T18:14:30.847668",
     "exception": false,
     "start_time": "2022-03-19T18:14:30.806227",
     "status": "completed"
    },
    "tags": []
   },
   "outputs": [],
   "source": [
    "def get_part_data(df, num_reviews):\n",
    "    \n",
    "    num_pos_reviews = df[df[\"is_spoiler\"]== True].shape[0]  # Number of spoilers in the dataset\n",
    "    num_neg_reviews = df[df[\"is_spoiler\"]== False].shape[0] # Number of Non-spoilers in the dataset\n",
    "    \n",
    "    fraction_pos = num_reviews/num_pos_reviews  # fraction of spoiler reviews to be returned\n",
    "    fraction_neg = num_reviews/num_neg_reviews  # fraction of non-spoiler reviews to be returned \n",
    "\n",
    "    df_pos = df[df['is_spoiler'] == True].sample(frac = fraction_pos, random_state = 2)\n",
    "    df_neg = df[df['is_spoiler'] == False].sample(frac = fraction_neg, random_state = 2)\n",
    "\n",
    "    df_re = pd.concat([df_pos, df_neg])  # join the True and False dataset\n",
    "    df_re = df_re.reset_index(drop=True)  # mix the index values\n",
    "    df_re.loc[(df_re['is_spoiler'] == True) ,'is_spoiler'] =1\n",
    "    df_re.loc[(df_re['is_spoiler'] == False) ,'is_spoiler'] =0\n",
    "    return df_re[[\"movie_id\",\"review_text\",\"review_summary\",\"is_spoiler\"]]"
   ]
  },
  {
   "cell_type": "code",
   "execution_count": 10,
   "id": "d703f09c",
   "metadata": {
    "execution": {
     "iopub.execute_input": "2022-03-19T18:14:30.915521Z",
     "iopub.status.busy": "2022-03-19T18:14:30.914669Z",
     "iopub.status.idle": "2022-03-19T18:14:31.908449Z",
     "shell.execute_reply": "2022-03-19T18:14:31.908946Z",
     "shell.execute_reply.started": "2022-03-12T20:09:53.662883Z"
    },
    "papermill": {
     "duration": 1.030198,
     "end_time": "2022-03-19T18:14:31.909138",
     "exception": false,
     "start_time": "2022-03-19T18:14:30.878940",
     "status": "completed"
    },
    "tags": []
   },
   "outputs": [],
   "source": [
    "d = get_part_data(df_reviews, 110000)\n",
    "d[\"is_spoiler\"] = d[\"is_spoiler\"].astype('int')\n",
    "\n",
    "df_r = d[[\"review_text\",\"is_spoiler\"]]"
   ]
  },
  {
   "cell_type": "code",
   "execution_count": 11,
   "id": "1569bf68",
   "metadata": {
    "execution": {
     "iopub.execute_input": "2022-03-19T18:14:31.981229Z",
     "iopub.status.busy": "2022-03-19T18:14:31.980631Z",
     "iopub.status.idle": "2022-03-19T18:14:31.984880Z",
     "shell.execute_reply": "2022-03-19T18:14:31.985302Z",
     "shell.execute_reply.started": "2022-03-12T20:09:54.618928Z"
    },
    "papermill": {
     "duration": 0.044916,
     "end_time": "2022-03-19T18:14:31.985441",
     "exception": false,
     "start_time": "2022-03-19T18:14:31.940525",
     "status": "completed"
    },
    "tags": []
   },
   "outputs": [
    {
     "data": {
      "text/html": [
       "<div>\n",
       "<style scoped>\n",
       "    .dataframe tbody tr th:only-of-type {\n",
       "        vertical-align: middle;\n",
       "    }\n",
       "\n",
       "    .dataframe tbody tr th {\n",
       "        vertical-align: top;\n",
       "    }\n",
       "\n",
       "    .dataframe thead th {\n",
       "        text-align: right;\n",
       "    }\n",
       "</style>\n",
       "<table border=\"1\" class=\"dataframe\">\n",
       "  <thead>\n",
       "    <tr style=\"text-align: right;\">\n",
       "      <th></th>\n",
       "      <th>movie_id</th>\n",
       "      <th>review_text</th>\n",
       "      <th>review_summary</th>\n",
       "      <th>is_spoiler</th>\n",
       "    </tr>\n",
       "  </thead>\n",
       "  <tbody>\n",
       "    <tr>\n",
       "      <th>0</th>\n",
       "      <td>tt1049413</td>\n",
       "      <td>Overall: This movie is just simply excellent. ...</td>\n",
       "      <td>One of Pixar's Best; My personal favourite</td>\n",
       "      <td>1</td>\n",
       "    </tr>\n",
       "    <tr>\n",
       "      <th>1</th>\n",
       "      <td>tt1131734</td>\n",
       "      <td>I decided to watch Jennifer's Body after my fa...</td>\n",
       "      <td>One of the most enjoyable  films I have ever w...</td>\n",
       "      <td>1</td>\n",
       "    </tr>\n",
       "    <tr>\n",
       "      <th>2</th>\n",
       "      <td>tt0451279</td>\n",
       "      <td>This review focuses on Greek Mythology in the ...</td>\n",
       "      <td>Serious Greek Myth Fail</td>\n",
       "      <td>1</td>\n",
       "    </tr>\n",
       "    <tr>\n",
       "      <th>3</th>\n",
       "      <td>tt1723811</td>\n",
       "      <td>I personally do not understand it when people ...</td>\n",
       "      <td>A shameful tragedy!</td>\n",
       "      <td>1</td>\n",
       "    </tr>\n",
       "    <tr>\n",
       "      <th>4</th>\n",
       "      <td>tt0464154</td>\n",
       "      <td>I loved this film, was truly great fun, OK the...</td>\n",
       "      <td>Great Fun</td>\n",
       "      <td>1</td>\n",
       "    </tr>\n",
       "  </tbody>\n",
       "</table>\n",
       "</div>"
      ],
      "text/plain": [
       "    movie_id                                        review_text  \\\n",
       "0  tt1049413  Overall: This movie is just simply excellent. ...   \n",
       "1  tt1131734  I decided to watch Jennifer's Body after my fa...   \n",
       "2  tt0451279  This review focuses on Greek Mythology in the ...   \n",
       "3  tt1723811  I personally do not understand it when people ...   \n",
       "4  tt0464154  I loved this film, was truly great fun, OK the...   \n",
       "\n",
       "                                      review_summary  is_spoiler  \n",
       "0         One of Pixar's Best; My personal favourite           1  \n",
       "1  One of the most enjoyable  films I have ever w...           1  \n",
       "2                            Serious Greek Myth Fail           1  \n",
       "3                                A shameful tragedy!           1  \n",
       "4                                          Great Fun           1  "
      ]
     },
     "execution_count": 11,
     "metadata": {},
     "output_type": "execute_result"
    }
   ],
   "source": [
    "d.head()"
   ]
  },
  {
   "cell_type": "markdown",
   "id": "b49a9b09",
   "metadata": {
    "papermill": {
     "duration": 0.031469,
     "end_time": "2022-03-19T18:14:32.049597",
     "exception": false,
     "start_time": "2022-03-19T18:14:32.018128",
     "status": "completed"
    },
    "tags": []
   },
   "source": [
    "## **Pre-process the reviews by removing the stop words, tokenizing and lemmitization**"
   ]
  },
  {
   "cell_type": "code",
   "execution_count": 12,
   "id": "487211ec",
   "metadata": {
    "execution": {
     "iopub.execute_input": "2022-03-19T18:14:32.118069Z",
     "iopub.status.busy": "2022-03-19T18:14:32.117373Z",
     "iopub.status.idle": "2022-03-19T18:14:42.183448Z",
     "shell.execute_reply": "2022-03-19T18:14:42.182951Z",
     "shell.execute_reply.started": "2022-03-12T20:09:54.630689Z"
    },
    "papermill": {
     "duration": 10.101912,
     "end_time": "2022-03-19T18:14:42.183578",
     "exception": false,
     "start_time": "2022-03-19T18:14:32.081666",
     "status": "completed"
    },
    "tags": []
   },
   "outputs": [],
   "source": [
    "import spacy\n",
    "import en_core_web_sm\n",
    "nlp = spacy.load(\"en_core_web_sm\")"
   ]
  },
  {
   "cell_type": "code",
   "execution_count": 13,
   "id": "b0ac0238",
   "metadata": {
    "execution": {
     "iopub.execute_input": "2022-03-19T18:14:42.300320Z",
     "iopub.status.busy": "2022-03-19T18:14:42.295144Z",
     "iopub.status.idle": "2022-03-19T18:14:56.852226Z",
     "shell.execute_reply": "2022-03-19T18:14:56.851335Z",
     "shell.execute_reply.started": "2022-03-12T20:10:03.757527Z"
    },
    "papermill": {
     "duration": 14.630576,
     "end_time": "2022-03-19T18:14:56.852453",
     "exception": false,
     "start_time": "2022-03-19T18:14:42.221877",
     "status": "completed"
    },
    "tags": []
   },
   "outputs": [],
   "source": [
    "# lower the words in training data\n",
    "ltexts = [[word.lower() for word in line.split()] for line in df_r[\"review_text\"]]"
   ]
  },
  {
   "cell_type": "code",
   "execution_count": 14,
   "id": "2b8dbe32",
   "metadata": {
    "execution": {
     "iopub.execute_input": "2022-03-19T18:14:56.931200Z",
     "iopub.status.busy": "2022-03-19T18:14:56.930219Z",
     "iopub.status.idle": "2022-03-19T18:14:56.932339Z",
     "shell.execute_reply": "2022-03-19T18:14:56.932825Z",
     "shell.execute_reply.started": "2022-03-12T20:10:18.065071Z"
    },
    "papermill": {
     "duration": 0.047493,
     "end_time": "2022-03-19T18:14:56.932983",
     "exception": false,
     "start_time": "2022-03-19T18:14:56.885490",
     "status": "completed"
    },
    "tags": []
   },
   "outputs": [],
   "source": [
    "def preprocess(text):\n",
    "    text = ' '.join(text)\n",
    "    # tokenization and removing stop words\n",
    "    token = [t for t in nlp(text) if not t.is_stop] \n",
    "    # lemmatization\n",
    "    lemma = [lem.lemma_ for lem in token]\n",
    "    # removing the non-alphabetic words\n",
    "    return [' '.join(i for i in lemma if i.isalpha()) ]"
   ]
  },
  {
   "cell_type": "code",
   "execution_count": 15,
   "id": "905342b5",
   "metadata": {
    "execution": {
     "iopub.execute_input": "2022-03-19T18:14:57.017883Z",
     "iopub.status.busy": "2022-03-19T18:14:57.017137Z",
     "iopub.status.idle": "2022-03-19T18:14:57.078744Z",
     "shell.execute_reply": "2022-03-19T18:14:57.079204Z",
     "shell.execute_reply.started": "2022-03-12T20:10:18.073969Z"
    },
    "papermill": {
     "duration": 0.110724,
     "end_time": "2022-03-19T18:14:57.079357",
     "exception": false,
     "start_time": "2022-03-19T18:14:56.968633",
     "status": "completed"
    },
    "tags": []
   },
   "outputs": [
    {
     "name": "stdout",
     "output_type": "stream",
     "text": [
      "['now', 'i', \"haven't\", 'read', 'the', 'stephen', 'king', 'novel', 'this', 'movie', 'is', 'based', 'on,', 'or', 'the', 'first', '\"carrie\"', 'movie.', 'but', 'this', 'one', 'just', 'seemed', 'like', 'it', 'needed', 'more', 'development', 'because', 'the', 'whole', 'thing', 'seemed', 'a', 'bit', 'rushed.', \"it's\", 'a', 'very', 'predictable', 'movie,', 'even', 'if', 'you', \"don't\", 'know', 'certain', 'things', 'about', 'this', 'flick', 'before', 'watching.', 'it', 'just', 'seemed', 'kind', 'of', 'forced', 'at', 'times,', 'and', 'when', \"it's\", 'over', \"it's\", 'just', 'not', 'really', 'satisfying.', 'chloë', 'grace', 'moretz', 'is', 'a', 'good', 'actress', 'and', 'there', 'is', 'a', 'bright', 'future', 'for', 'her', 'in', 'this', 'industry.', 'but', 'the', 'part', 'where', 'she', 'snaps', \"didn't\", 'really', 'do', 'it,', 'because', 'her', 'eyes', 'are', 'just', 'too', 'innocent', 'looking', 'even', 'when', 'she', 'tries', 'to', 'act', 'like', 'she', 'is', 'angry.', 'which', 'takes', 'away', 'from', 'carrie', \"white's\", 'fury', 'at', 'the', 'end.', 'she', 'is', 'good', 'playing', 'the', 'naive', 'school', 'girl.', 'it', 'seems', 'today,', 'people', 'cheer', 'for', 'students', 'that', 'fight', 'against', 'bullies', 'and', 'stand', 'their', 'ground.', 'but', 'in', 'this', 'case', 'it', 'just', 'lacked', 'the', 'development', 'to', 'make', 'the', 'climax', 'more', 'impactful.', 'mainly,', 'because', \"carrie's\", 'psychotic', 'mother', 'is', 'the', 'main', 'bully', 'in', 'this', 'and', 'it', 'just', 'seemed', 'like', 'carrie', 'took', 'those', 'scars', 'and', 'inner', 'emotions', 'and', 'took', 'it', 'out', 'on', 'the', 'other', 'students.', 'since', 'the', 'only', 'incidents', 'that', 'stood', 'out', 'was', 'the', 'tampon', 'scene', 'in', 'the', 'beginning', 'and', 'the', 'pig', 'blood', 'spilling', 'scene', 'in', 'the', 'end.', 'personally,', 'i', 'just', 'left', 'the', 'theater', 'with', 'this', '\"um', 'okay...\"', 'feeling,', 'but', 'nothing', 'really', 'satisfying.5.6/10']\n",
      "['read stephen king novel movie base carrie movie like need development thing bit rush predictable movie know certain thing flick watch kind force time satisfy chloë grace moretz good actress bright future industry snap eye innocent look try act like angry take away carrie white fury end good play naive school girl today people cheer student fight bully stand ground case lack development climax impactful mainly carrie psychotic mother main bully like carrie take scar inner emotion take student incident stand tampon scene beginning pig blood spill scene end personally leave theater um okay feeling']\n"
     ]
    }
   ],
   "source": [
    "print(ltexts[5])\n",
    "\n",
    "# sample preprocessing for one text in the data\n",
    "print(preprocess(ltexts[5]))"
   ]
  },
  {
   "cell_type": "code",
   "execution_count": 16,
   "id": "76e8ac49",
   "metadata": {
    "execution": {
     "iopub.execute_input": "2022-03-19T18:14:57.147709Z",
     "iopub.status.busy": "2022-03-19T18:14:57.146914Z",
     "iopub.status.idle": "2022-03-19T18:14:57.148706Z",
     "shell.execute_reply": "2022-03-19T18:14:57.149194Z",
     "shell.execute_reply.started": "2022-03-12T20:10:18.14484Z"
    },
    "papermill": {
     "duration": 0.037502,
     "end_time": "2022-03-19T18:14:57.149327",
     "exception": false,
     "start_time": "2022-03-19T18:14:57.111825",
     "status": "completed"
    },
    "tags": []
   },
   "outputs": [],
   "source": [
    "# proc_text = []\n",
    "# for i in range(len(ltexts)):\n",
    "#     proc_text.append(preprocess(ltexts[i]))"
   ]
  },
  {
   "cell_type": "code",
   "execution_count": 17,
   "id": "528a8150",
   "metadata": {
    "execution": {
     "iopub.execute_input": "2022-03-19T18:14:57.219059Z",
     "iopub.status.busy": "2022-03-19T18:14:57.218188Z",
     "iopub.status.idle": "2022-03-19T18:14:57.220502Z",
     "shell.execute_reply": "2022-03-19T18:14:57.220001Z",
     "shell.execute_reply.started": "2022-03-12T20:10:18.150619Z"
    },
    "papermill": {
     "duration": 0.038446,
     "end_time": "2022-03-19T18:14:57.220618",
     "exception": false,
     "start_time": "2022-03-19T18:14:57.182172",
     "status": "completed"
    },
    "tags": []
   },
   "outputs": [],
   "source": [
    "#proc_text[5]"
   ]
  },
  {
   "cell_type": "markdown",
   "id": "e2618165",
   "metadata": {
    "papermill": {
     "duration": 0.031929,
     "end_time": "2022-03-19T18:14:57.284312",
     "exception": false,
     "start_time": "2022-03-19T18:14:57.252383",
     "status": "completed"
    },
    "tags": []
   },
   "source": [
    "## **Base line Dummy classifier**"
   ]
  },
  {
   "cell_type": "code",
   "execution_count": 18,
   "id": "f3cc8e1b",
   "metadata": {
    "execution": {
     "iopub.execute_input": "2022-03-19T18:14:57.359754Z",
     "iopub.status.busy": "2022-03-19T18:14:57.355595Z",
     "iopub.status.idle": "2022-03-19T18:14:57.709732Z",
     "shell.execute_reply": "2022-03-19T18:14:57.710337Z",
     "shell.execute_reply.started": "2022-03-12T20:10:18.159068Z"
    },
    "papermill": {
     "duration": 0.394258,
     "end_time": "2022-03-19T18:14:57.710530",
     "exception": false,
     "start_time": "2022-03-19T18:14:57.316272",
     "status": "completed"
    },
    "tags": []
   },
   "outputs": [
    {
     "name": "stdout",
     "output_type": "stream",
     "text": [
      "              precision    recall  f1-score   support\n",
      "\n",
      "           0       0.50      0.50      0.50     76945\n",
      "           1       0.50      0.50      0.50     77055\n",
      "\n",
      "    accuracy                           0.50    154000\n",
      "   macro avg       0.50      0.50      0.50    154000\n",
      "weighted avg       0.50      0.50      0.50    154000\n",
      "\n",
      "              precision    recall  f1-score   support\n",
      "\n",
      "           0       0.50      0.50      0.50     33055\n",
      "           1       0.50      0.50      0.50     32945\n",
      "\n",
      "    accuracy                           0.50     66000\n",
      "   macro avg       0.50      0.50      0.50     66000\n",
      "weighted avg       0.50      0.50      0.50     66000\n",
      "\n"
     ]
    }
   ],
   "source": [
    "### Base line Dummy classifier\n",
    "X_train, X_test, y_train, y_test = train_test_split(df_r[\"review_text\"], df_r[\"is_spoiler\"],\n",
    "                                                     test_size=0.30, random_state=9)\n",
    "# Dummy classifier model\n",
    "clf = DummyClassifier(strategy='stratified')\n",
    "clf.fit(X_train, y_train)\n",
    "    \n",
    "# Predict the train by using dummmy classifier\n",
    "dummy_train_pred = clf.predict(X_train)\n",
    "dummy_test_pred  = clf.predict(X_test)\n",
    "    \n",
    "print(classification_report(y_train, dummy_train_pred))\n",
    "print(classification_report(y_test,dummy_test_pred))"
   ]
  },
  {
   "cell_type": "markdown",
   "id": "0b4735d0",
   "metadata": {
    "papermill": {
     "duration": 0.031768,
     "end_time": "2022-03-19T18:14:57.775405",
     "exception": false,
     "start_time": "2022-03-19T18:14:57.743637",
     "status": "completed"
    },
    "tags": []
   },
   "source": [
    "## **Naive Bayes Classifier**"
   ]
  },
  {
   "cell_type": "code",
   "execution_count": 19,
   "id": "875b87fc",
   "metadata": {
    "execution": {
     "iopub.execute_input": "2022-03-19T18:14:57.871446Z",
     "iopub.status.busy": "2022-03-19T18:14:57.867733Z",
     "iopub.status.idle": "2022-03-19T18:14:57.874688Z",
     "shell.execute_reply": "2022-03-19T18:14:57.874278Z",
     "shell.execute_reply.started": "2022-03-12T20:10:18.526318Z"
    },
    "papermill": {
     "duration": 0.067455,
     "end_time": "2022-03-19T18:14:57.874831",
     "exception": false,
     "start_time": "2022-03-19T18:14:57.807376",
     "status": "completed"
    },
    "tags": []
   },
   "outputs": [],
   "source": [
    "is_spoiler = [\"True\",\"False\"]\n",
    "\n",
    "### Naive Bayes model to predict the spoilers\n",
    "def model_pipe(df):\n",
    "    X_train, X_test, y_train, y_test = train_test_split(df[\"review_text\"], df[\"is_spoiler\"],\n",
    "                                                        test_size=0.30, random_state=9)\n",
    "    # pipline the process for text classification\n",
    "    pipe = Pipeline([(\"count_vectorizer\", CountVectorizer(stop_words=\"english\")),\n",
    "                     (\"tfidf_transformer\", TfidfTransformer()),\n",
    "                     (\"nb_classifier\", BernoulliNB())])\n",
    "\n",
    "    # fit the model to the train data\n",
    "    pipe.fit(X_train, y_train)\n",
    "\n",
    "    # predict the train values\n",
    "    train_pred = pipe.predict(X_train)\n",
    "\n",
    "    # predict the test\n",
    "    test_pred = pipe.predict(X_test)\n",
    "    \n",
    "    cm = confusion_matrix(y_test,test_pred)\n",
    "    fig,ax = plt.subplots(figsize=(10, 10))\n",
    "    disp = ConfusionMatrixDisplay(confusion_matrix=cm,display_labels=is_spoiler)\n",
    "    disp.plot(ax=ax)\n",
    "    plt.show()\n",
    "\n",
    "    print(classification_report(y_train, train_pred))\n",
    "    print(classification_report(y_test, test_pred))\n",
    "    print(\"AUC Score\")\n",
    "    print(roc_auc_score(y_test, test_pred))"
   ]
  },
  {
   "cell_type": "code",
   "execution_count": 20,
   "id": "cba613ad",
   "metadata": {
    "execution": {
     "iopub.execute_input": "2022-03-19T18:14:57.944263Z",
     "iopub.status.busy": "2022-03-19T18:14:57.943678Z",
     "iopub.status.idle": "2022-03-19T18:16:32.074333Z",
     "shell.execute_reply": "2022-03-19T18:16:32.074946Z",
     "shell.execute_reply.started": "2022-03-12T20:10:18.561037Z"
    },
    "papermill": {
     "duration": 94.167589,
     "end_time": "2022-03-19T18:16:32.075146",
     "exception": false,
     "start_time": "2022-03-19T18:14:57.907557",
     "status": "completed"
    },
    "tags": []
   },
   "outputs": [
    {
     "data": {
      "image/png": "[encoded data removed]",
      "text/plain": [
       "<Figure size 720x720 with 2 Axes>"
      ]
     },
     "metadata": {
      "needs_background": "light"
     },
     "output_type": "display_data"
    },
    {
     "name": "stdout",
     "output_type": "stream",
     "text": [
      "              precision    recall  f1-score   support\n",
      "\n",
      "           0       0.61      0.78      0.68     76945\n",
      "           1       0.69      0.50      0.58     77055\n",
      "\n",
      "    accuracy                           0.64    154000\n",
      "   macro avg       0.65      0.64      0.63    154000\n",
      "weighted avg       0.65      0.64      0.63    154000\n",
      "\n",
      "              precision    recall  f1-score   support\n",
      "\n",
      "           0       0.60      0.77      0.68     33055\n",
      "           1       0.68      0.49      0.57     32945\n",
      "\n",
      "    accuracy                           0.63     66000\n",
      "   macro avg       0.64      0.63      0.62     66000\n",
      "weighted avg       0.64      0.63      0.62     66000\n",
      "\n",
      "AUC Score\n",
      "0.6294806121936196\n"
     ]
    }
   ],
   "source": [
    "model_pipe(df_r)"
   ]
  },
  {
   "cell_type": "code",
   "execution_count": 21,
   "id": "68c72b93",
   "metadata": {
    "execution": {
     "iopub.execute_input": "2022-03-19T18:16:32.149467Z",
     "iopub.status.busy": "2022-03-19T18:16:32.148643Z",
     "iopub.status.idle": "2022-03-19T18:16:32.150687Z",
     "shell.execute_reply": "2022-03-19T18:16:32.151076Z",
     "shell.execute_reply.started": "2022-03-12T20:11:50.859111Z"
    },
    "papermill": {
     "duration": 0.041572,
     "end_time": "2022-03-19T18:16:32.151211",
     "exception": false,
     "start_time": "2022-03-19T18:16:32.109639",
     "status": "completed"
    },
    "tags": []
   },
   "outputs": [],
   "source": [
    "from sklearn.model_selection import GridSearchCV\n",
    "Gpipe = Pipeline([('count_vect',CountVectorizer(stop_words=\"english\")),\n",
    "                ('tfidf_transformer',TfidfTransformer()),\n",
    "                ('nbClassifier',BernoulliNB())])\n",
    "\n",
    "\n",
    "parameters = {\n",
    "    'count_vect__binary': [True, False],\n",
    "    'count_vect__ngram_range': [(1, 1), (1, 2)],\n",
    "    'nbClassifier__alpha': (1, 0.1),\n",
    "}\n",
    "\n",
    "grid_search = GridSearchCV(Gpipe, parameters, cv=5)"
   ]
  },
  {
   "cell_type": "code",
   "execution_count": 22,
   "id": "08c26eb7",
   "metadata": {
    "execution": {
     "iopub.execute_input": "2022-03-19T18:16:32.222142Z",
     "iopub.status.busy": "2022-03-19T18:16:32.221292Z",
     "iopub.status.idle": "2022-03-19T18:16:32.223296Z",
     "shell.execute_reply": "2022-03-19T18:16:32.223667Z",
     "shell.execute_reply.started": "2022-03-12T20:11:50.867065Z"
    },
    "papermill": {
     "duration": 0.039337,
     "end_time": "2022-03-19T18:16:32.223828",
     "exception": false,
     "start_time": "2022-03-19T18:16:32.184491",
     "status": "completed"
    },
    "tags": []
   },
   "outputs": [],
   "source": [
    "#clf = grid_search.fit(X_train, y_train)\n",
    "#print(grid_search.best_params_)"
   ]
  },
  {
   "cell_type": "code",
   "execution_count": 23,
   "id": "7bd871f7",
   "metadata": {
    "execution": {
     "iopub.execute_input": "2022-03-19T18:16:32.294685Z",
     "iopub.status.busy": "2022-03-19T18:16:32.293855Z",
     "iopub.status.idle": "2022-03-19T18:16:32.295619Z",
     "shell.execute_reply": "2022-03-19T18:16:32.296079Z",
     "shell.execute_reply.started": "2022-03-12T20:11:50.879252Z"
    },
    "papermill": {
     "duration": 0.039067,
     "end_time": "2022-03-19T18:16:32.296210",
     "exception": false,
     "start_time": "2022-03-19T18:16:32.257143",
     "status": "completed"
    },
    "tags": []
   },
   "outputs": [],
   "source": [
    "#naive_pred = grid_search(X_test)\n",
    "#print(classification_report(y_test,naive_pred))"
   ]
  },
  {
   "cell_type": "markdown",
   "id": "6c5b70a3",
   "metadata": {
    "papermill": {
     "duration": 0.032985,
     "end_time": "2022-03-19T18:16:32.362452",
     "exception": false,
     "start_time": "2022-03-19T18:16:32.329467",
     "status": "completed"
    },
    "tags": []
   },
   "source": [
    "## **XG Boost Classifier**"
   ]
  },
  {
   "cell_type": "code",
   "execution_count": 24,
   "id": "fce8ed48",
   "metadata": {
    "execution": {
     "iopub.execute_input": "2022-03-19T18:16:32.433051Z",
     "iopub.status.busy": "2022-03-19T18:16:32.432129Z",
     "iopub.status.idle": "2022-03-19T18:16:32.507788Z",
     "shell.execute_reply": "2022-03-19T18:16:32.507315Z",
     "shell.execute_reply.started": "2022-03-12T20:11:50.887549Z"
    },
    "papermill": {
     "duration": 0.111816,
     "end_time": "2022-03-19T18:16:32.507935",
     "exception": false,
     "start_time": "2022-03-19T18:16:32.396119",
     "status": "completed"
    },
    "tags": []
   },
   "outputs": [],
   "source": [
    "import xgboost as xgb"
   ]
  },
  {
   "cell_type": "code",
   "execution_count": 25,
   "id": "7b5b6ef0",
   "metadata": {
    "execution": {
     "iopub.execute_input": "2022-03-19T18:16:32.583576Z",
     "iopub.status.busy": "2022-03-19T18:16:32.582878Z",
     "iopub.status.idle": "2022-03-19T18:16:32.585567Z",
     "shell.execute_reply": "2022-03-19T18:16:32.585137Z",
     "shell.execute_reply.started": "2022-03-12T20:11:50.957962Z"
    },
    "papermill": {
     "duration": 0.044215,
     "end_time": "2022-03-19T18:16:32.585674",
     "exception": false,
     "start_time": "2022-03-19T18:16:32.541459",
     "status": "completed"
    },
    "tags": []
   },
   "outputs": [],
   "source": [
    "def xgmodel_pipe(df):\n",
    "    X_train, X_test, y_train, y_test = train_test_split(df[\"review_text\"], df[\"is_spoiler\"],\n",
    "                                                        test_size=0.30, random_state=9)\n",
    "    # pipline the process for text classification\n",
    "    pipe = Pipeline([(\"count_vectorizer\", CountVectorizer(stop_words = \"english\")),\n",
    "                     (\"tfidf_transformer\", TfidfTransformer()),\n",
    "                     (\"xg_classifier\", xgb.XGBClassifier(eta = 0.75, objective=\"binary:logitraw\"))])\n",
    "\n",
    "    # fit the model to the train data\n",
    "    pipe.fit(X_train, y_train)\n",
    "\n",
    "    # predict the train values\n",
    "    train_pred = pipe.predict(X_train)\n",
    "\n",
    "    # predict the test\n",
    "    test_pred = pipe.predict(X_test)\n",
    "    \n",
    "    # Confusion Matrix\n",
    "    cm = confusion_matrix(y_test,test_pred)\n",
    "    fig,ax = plt.subplots(figsize=(10, 10))\n",
    "    disp = ConfusionMatrixDisplay(confusion_matrix=cm,display_labels=is_spoiler)\n",
    "    disp.plot(ax=ax)\n",
    "    plt.show()\n",
    "    \n",
    "     # Classification report\n",
    "    print(classification_report(y_train, train_pred))\n",
    "    print(classification_report(y_test, test_pred))\n",
    "    print(\"AUC Score\")\n",
    "    print(roc_auc_score(y_test, test_pred))"
   ]
  },
  {
   "cell_type": "code",
   "execution_count": 26,
   "id": "58a0c166",
   "metadata": {
    "execution": {
     "iopub.execute_input": "2022-03-19T18:16:32.660458Z",
     "iopub.status.busy": "2022-03-19T18:16:32.659687Z",
     "iopub.status.idle": "2022-03-19T18:27:24.445625Z",
     "shell.execute_reply": "2022-03-19T18:27:24.446103Z",
     "shell.execute_reply.started": "2022-03-12T20:11:50.969875Z"
    },
    "papermill": {
     "duration": 651.827484,
     "end_time": "2022-03-19T18:27:24.446271",
     "exception": false,
     "start_time": "2022-03-19T18:16:32.618787",
     "status": "completed"
    },
    "tags": []
   },
   "outputs": [
    {
     "name": "stderr",
     "output_type": "stream",
     "text": [
      "/opt/conda/lib/python3.7/site-packages/xgboost/sklearn.py:1224: UserWarning: The use of label encoder in XGBClassifier is deprecated and will be removed in a future release. To remove this warning, do the following: 1) Pass option use_label_encoder=False when constructing XGBClassifier object; and 2) Encode your labels (y) as integers starting with 0, i.e. 0, 1, 2, ..., [num_class - 1].\n",
      "  warnings.warn(label_encoder_deprecation_msg, UserWarning)\n"
     ]
    },
    {
     "name": "stdout",
     "output_type": "stream",
     "text": [
      "[18:17:19] WARNING: ../src/learner.cc:1115: Starting in XGBoost 1.4.0, the default evaluation metric used with the objective 'binary:logitraw' was changed from 'auc' to 'logloss'. Explicitly set eval_metric if you'd like to restore the old behavior.\n"
     ]
    },
    {
     "data": {
      "image/png": "[encoded data removed]",
      "text/plain": [
       "<Figure size 720x720 with 2 Axes>"
      ]
     },
     "metadata": {
      "needs_background": "light"
     },
     "output_type": "display_data"
    },
    {
     "name": "stdout",
     "output_type": "stream",
     "text": [
      "              precision    recall  f1-score   support\n",
      "\n",
      "           0       0.69      0.91      0.78     76945\n",
      "           1       0.87      0.60      0.71     77055\n",
      "\n",
      "    accuracy                           0.75    154000\n",
      "   macro avg       0.78      0.75      0.75    154000\n",
      "weighted avg       0.78      0.75      0.75    154000\n",
      "\n",
      "              precision    recall  f1-score   support\n",
      "\n",
      "           0       0.62      0.82      0.71     33055\n",
      "           1       0.74      0.50      0.60     32945\n",
      "\n",
      "    accuracy                           0.66     66000\n",
      "   macro avg       0.68      0.66      0.65     66000\n",
      "weighted avg       0.68      0.66      0.65     66000\n",
      "\n",
      "AUC Score\n",
      "0.6609915078046935\n"
     ]
    }
   ],
   "source": [
    "xgmodel_pipe(df_r)"
   ]
  },
  {
   "cell_type": "markdown",
   "id": "fd24a393",
   "metadata": {
    "papermill": {
     "duration": 0.035395,
     "end_time": "2022-03-19T18:27:24.517635",
     "exception": false,
     "start_time": "2022-03-19T18:27:24.482240",
     "status": "completed"
    },
    "tags": []
   },
   "source": [
    "## Word2Vec used for word embedding technique"
   ]
  },
  {
   "cell_type": "code",
   "execution_count": 27,
   "id": "fcec8dbb",
   "metadata": {
    "execution": {
     "iopub.execute_input": "2022-03-19T18:27:24.596000Z",
     "iopub.status.busy": "2022-03-19T18:27:24.595289Z",
     "iopub.status.idle": "2022-03-19T18:27:29.524256Z",
     "shell.execute_reply": "2022-03-19T18:27:29.523260Z",
     "shell.execute_reply.started": "2022-03-12T20:22:40.369227Z"
    },
    "papermill": {
     "duration": 4.969685,
     "end_time": "2022-03-19T18:27:29.524411",
     "exception": false,
     "start_time": "2022-03-19T18:27:24.554726",
     "status": "completed"
    },
    "tags": []
   },
   "outputs": [],
   "source": [
    "import spacy\n",
    "from functools import reduce\n",
    "import gensim\n",
    "from gensim.models import Word2Vec\n",
    "nlp = spacy.load('en_core_web_lg')"
   ]
  },
  {
   "cell_type": "code",
   "execution_count": 28,
   "id": "1ba75f0a",
   "metadata": {
    "execution": {
     "iopub.execute_input": "2022-03-19T18:27:29.603484Z",
     "iopub.status.busy": "2022-03-19T18:27:29.602640Z",
     "iopub.status.idle": "2022-03-19T18:27:30.015508Z",
     "shell.execute_reply": "2022-03-19T18:27:30.014919Z",
     "shell.execute_reply.started": "2022-03-12T20:24:35.89324Z"
    },
    "papermill": {
     "duration": 0.453756,
     "end_time": "2022-03-19T18:27:30.015640",
     "exception": false,
     "start_time": "2022-03-19T18:27:29.561884",
     "status": "completed"
    },
    "tags": []
   },
   "outputs": [],
   "source": [
    "data_e = get_part_data(df_reviews, 20000)\n",
    "data_e[\"is_spoiler\"] = data_e[\"is_spoiler\"].astype('int')"
   ]
  },
  {
   "cell_type": "markdown",
   "id": "bbd644f8",
   "metadata": {
    "papermill": {
     "duration": 0.037679,
     "end_time": "2022-03-19T18:27:30.090385",
     "exception": false,
     "start_time": "2022-03-19T18:27:30.052706",
     "status": "completed"
    },
    "tags": []
   },
   "source": [
    "To identify the spolier in the review text. I thought, whether the word2vector using word embedding technique may find the cosine similarity between the **Review_text** and the **Plot summary** of the respective movie.\n",
    "\n",
    "Therefore, I implemented the Cosine similarity function to check the IMDB review text."
   ]
  },
  {
   "cell_type": "code",
   "execution_count": 29,
   "id": "31b0cede",
   "metadata": {
    "execution": {
     "iopub.execute_input": "2022-03-19T18:27:30.169819Z",
     "iopub.status.busy": "2022-03-19T18:27:30.168815Z",
     "iopub.status.idle": "2022-03-19T18:27:30.219667Z",
     "shell.execute_reply": "2022-03-19T18:27:30.220163Z",
     "shell.execute_reply.started": "2022-03-12T20:24:37.280883Z"
    },
    "papermill": {
     "duration": 0.091803,
     "end_time": "2022-03-19T18:27:30.220342",
     "exception": false,
     "start_time": "2022-03-19T18:27:30.128539",
     "status": "completed"
    },
    "tags": []
   },
   "outputs": [
    {
     "data": {
      "text/html": [
       "<div>\n",
       "<style scoped>\n",
       "    .dataframe tbody tr th:only-of-type {\n",
       "        vertical-align: middle;\n",
       "    }\n",
       "\n",
       "    .dataframe tbody tr th {\n",
       "        vertical-align: top;\n",
       "    }\n",
       "\n",
       "    .dataframe thead th {\n",
       "        text-align: right;\n",
       "    }\n",
       "</style>\n",
       "<table border=\"1\" class=\"dataframe\">\n",
       "  <thead>\n",
       "    <tr style=\"text-align: right;\">\n",
       "      <th></th>\n",
       "      <th>movie_id</th>\n",
       "      <th>review_text</th>\n",
       "      <th>review_summary</th>\n",
       "      <th>is_spoiler</th>\n",
       "      <th>plot_summary</th>\n",
       "      <th>duration</th>\n",
       "      <th>genre</th>\n",
       "      <th>rating</th>\n",
       "      <th>release_date</th>\n",
       "      <th>plot_synopsis</th>\n",
       "    </tr>\n",
       "  </thead>\n",
       "  <tbody>\n",
       "    <tr>\n",
       "      <th>0</th>\n",
       "      <td>tt1049413</td>\n",
       "      <td>Overall: This movie is just simply excellent. ...</td>\n",
       "      <td>One of Pixar's Best; My personal favourite</td>\n",
       "      <td>1</td>\n",
       "      <td>Carl Fredricksen as a boy wanted to explore So...</td>\n",
       "      <td>1h 36min</td>\n",
       "      <td>[Animation, Adventure, Comedy]</td>\n",
       "      <td>8.3</td>\n",
       "      <td>2009-05-29</td>\n",
       "      <td>Young Carl Fredricksen (Jeremy Leary), a quiet...</td>\n",
       "    </tr>\n",
       "    <tr>\n",
       "      <th>1</th>\n",
       "      <td>tt1131734</td>\n",
       "      <td>I decided to watch Jennifer's Body after my fa...</td>\n",
       "      <td>One of the most enjoyable  films I have ever w...</td>\n",
       "      <td>1</td>\n",
       "      <td>Nerdy, reserved bookworm Needy Lesnicki, and a...</td>\n",
       "      <td>1h 42min</td>\n",
       "      <td>[Comedy, Horror]</td>\n",
       "      <td>5.1</td>\n",
       "      <td>2009-09-18</td>\n",
       "      <td>Opening scene (depending on the DVD's theatric...</td>\n",
       "    </tr>\n",
       "    <tr>\n",
       "      <th>2</th>\n",
       "      <td>tt0451279</td>\n",
       "      <td>This review focuses on Greek Mythology in the ...</td>\n",
       "      <td>Serious Greek Myth Fail</td>\n",
       "      <td>1</td>\n",
       "      <td>Diana, princess of the Amazons, trained to be ...</td>\n",
       "      <td>2h 21min</td>\n",
       "      <td>[Action, Adventure, Fantasy]</td>\n",
       "      <td>7.6</td>\n",
       "      <td>2017-06-02</td>\n",
       "      <td>In the opening scene in modern day Paris, Fran...</td>\n",
       "    </tr>\n",
       "    <tr>\n",
       "      <th>3</th>\n",
       "      <td>tt1723811</td>\n",
       "      <td>I personally do not understand it when people ...</td>\n",
       "      <td>A shameful tragedy!</td>\n",
       "      <td>1</td>\n",
       "      <td>Brandon is a 30-something man living in New Yo...</td>\n",
       "      <td>1h 41min</td>\n",
       "      <td>[Drama]</td>\n",
       "      <td>7.2</td>\n",
       "      <td>2012-01-13</td>\n",
       "      <td>Brandon (Michael Fassbender) is a successful, ...</td>\n",
       "    </tr>\n",
       "    <tr>\n",
       "      <th>4</th>\n",
       "      <td>tt0464154</td>\n",
       "      <td>I loved this film, was truly great fun, OK the...</td>\n",
       "      <td>Great Fun</td>\n",
       "      <td>1</td>\n",
       "      <td>Lake Victoria's annual Spring party by 50,000 ...</td>\n",
       "      <td>1h 28min</td>\n",
       "      <td>[Comedy, Horror, Thriller]</td>\n",
       "      <td>5.5</td>\n",
       "      <td>2010-08-20</td>\n",
       "      <td>Fisherman Matthew Boyd (Richard Dreyfuss) fish...</td>\n",
       "    </tr>\n",
       "  </tbody>\n",
       "</table>\n",
       "</div>"
      ],
      "text/plain": [
       "    movie_id                                        review_text  \\\n",
       "0  tt1049413  Overall: This movie is just simply excellent. ...   \n",
       "1  tt1131734  I decided to watch Jennifer's Body after my fa...   \n",
       "2  tt0451279  This review focuses on Greek Mythology in the ...   \n",
       "3  tt1723811  I personally do not understand it when people ...   \n",
       "4  tt0464154  I loved this film, was truly great fun, OK the...   \n",
       "\n",
       "                                      review_summary  is_spoiler  \\\n",
       "0         One of Pixar's Best; My personal favourite           1   \n",
       "1  One of the most enjoyable  films I have ever w...           1   \n",
       "2                            Serious Greek Myth Fail           1   \n",
       "3                                A shameful tragedy!           1   \n",
       "4                                          Great Fun           1   \n",
       "\n",
       "                                        plot_summary  duration  \\\n",
       "0  Carl Fredricksen as a boy wanted to explore So...  1h 36min   \n",
       "1  Nerdy, reserved bookworm Needy Lesnicki, and a...  1h 42min   \n",
       "2  Diana, princess of the Amazons, trained to be ...  2h 21min   \n",
       "3  Brandon is a 30-something man living in New Yo...  1h 41min   \n",
       "4  Lake Victoria's annual Spring party by 50,000 ...  1h 28min   \n",
       "\n",
       "                            genre  rating release_date  \\\n",
       "0  [Animation, Adventure, Comedy]     8.3   2009-05-29   \n",
       "1                [Comedy, Horror]     5.1   2009-09-18   \n",
       "2    [Action, Adventure, Fantasy]     7.6   2017-06-02   \n",
       "3                         [Drama]     7.2   2012-01-13   \n",
       "4      [Comedy, Horror, Thriller]     5.5   2010-08-20   \n",
       "\n",
       "                                       plot_synopsis  \n",
       "0  Young Carl Fredricksen (Jeremy Leary), a quiet...  \n",
       "1  Opening scene (depending on the DVD's theatric...  \n",
       "2  In the opening scene in modern day Paris, Fran...  \n",
       "3  Brandon (Michael Fassbender) is a successful, ...  \n",
       "4  Fisherman Matthew Boyd (Richard Dreyfuss) fish...  "
      ]
     },
     "execution_count": 29,
     "metadata": {},
     "output_type": "execute_result"
    }
   ],
   "source": [
    "# Join the reviews with the plot summary of respective movie in df_details dataset\n",
    "reframed_data = data_e.merge(df_details, how='left', on='movie_id')\n",
    "reframed_data.head()"
   ]
  },
  {
   "cell_type": "code",
   "execution_count": 30,
   "id": "abbceee8",
   "metadata": {
    "execution": {
     "iopub.execute_input": "2022-03-19T18:27:30.301983Z",
     "iopub.status.busy": "2022-03-19T18:27:30.300922Z",
     "iopub.status.idle": "2022-03-19T18:27:30.323655Z",
     "shell.execute_reply": "2022-03-19T18:27:30.323160Z",
     "shell.execute_reply.started": "2022-03-12T20:24:37.764664Z"
    },
    "papermill": {
     "duration": 0.064077,
     "end_time": "2022-03-19T18:27:30.323809",
     "exception": false,
     "start_time": "2022-03-19T18:27:30.259732",
     "status": "completed"
    },
    "tags": []
   },
   "outputs": [],
   "source": [
    "# train and test spilt for word embedding technique\n",
    "x_train, x_test, Y_train, Y_test = train_test_split(reframed_data[[\"review_text\",\"plot_summary\"]],reframed_data[\"is_spoiler\"],\n",
    "                                                    test_size=0.30, random_state=9)"
   ]
  },
  {
   "cell_type": "code",
   "execution_count": 31,
   "id": "ff97155a",
   "metadata": {
    "execution": {
     "iopub.execute_input": "2022-03-19T18:27:30.410955Z",
     "iopub.status.busy": "2022-03-19T18:27:30.410080Z",
     "iopub.status.idle": "2022-03-19T18:27:30.411867Z",
     "shell.execute_reply": "2022-03-19T18:27:30.412387Z",
     "shell.execute_reply.started": "2022-03-12T20:24:38.18496Z"
    },
    "papermill": {
     "duration": 0.049464,
     "end_time": "2022-03-19T18:27:30.412527",
     "exception": false,
     "start_time": "2022-03-19T18:27:30.363063",
     "status": "completed"
    },
    "tags": []
   },
   "outputs": [],
   "source": [
    "from functools import reduce\n",
    "def tn(sentence):\n",
    "    return reduce(lambda x,y: x+y, [nlp.vocab[w].vector for w in sentence.split()])\n",
    "\n",
    "def transform1(row):\n",
    "        s1 = tn(row.review_text)\n",
    "        s2 = tn(row.plot_summary)\n",
    "        return np.stack([s1,s2])\n",
    "    \n",
    "def transform(X):\n",
    "        return np.concatenate(\n",
    "            [transform1(row).reshape(1, -1) for row in X.itertuples()]\n",
    "        )\n",
    "\n",
    "def cosine_sim(arr1, arr2): \n",
    "    ### to predict the spoiler by comparing the review text with orginal plot summary\n",
    "    return np.dot(arr1, arr2) / (np.linalg.norm(arr1) * np.linalg.norm(arr2))\n",
    "\n",
    "\n",
    "def transform2(row):\n",
    "        s1 = tn(row.review_text)\n",
    "        s2 = tn(row.plot_summary)\n",
    "        return cosine_sim(s1,s2)\n",
    "    \n",
    "    \n",
    "def similarity_predict(data, threshold):   \n",
    "    simPred = []\n",
    "    for row in data.itertuples():\n",
    "        sim = transform2(row)\n",
    "        if sim >=threshold:\n",
    "            simPred.append(int(1))\n",
    "        else:\n",
    "            simPred.append(int(0))\n",
    "    return simPred"
   ]
  },
  {
   "cell_type": "code",
   "execution_count": 32,
   "id": "bee73801",
   "metadata": {
    "execution": {
     "iopub.execute_input": "2022-03-19T18:27:30.508687Z",
     "iopub.status.busy": "2022-03-19T18:27:30.507846Z",
     "iopub.status.idle": "2022-03-19T18:29:04.084981Z",
     "shell.execute_reply": "2022-03-19T18:29:04.085607Z",
     "shell.execute_reply.started": "2022-03-12T20:24:38.656992Z"
    },
    "papermill": {
     "duration": 93.637041,
     "end_time": "2022-03-19T18:29:04.085834",
     "exception": false,
     "start_time": "2022-03-19T18:27:30.448793",
     "status": "completed"
    },
    "tags": []
   },
   "outputs": [
    {
     "name": "stdout",
     "output_type": "stream",
     "text": [
      "              precision    recall  f1-score   support\n",
      "\n",
      "           0       0.11      0.61      0.18      2482\n",
      "           1       0.93      0.51      0.66     25518\n",
      "\n",
      "    accuracy                           0.52     28000\n",
      "   macro avg       0.52      0.56      0.42     28000\n",
      "weighted avg       0.86      0.52      0.62     28000\n",
      "\n",
      "              precision    recall  f1-score   support\n",
      "\n",
      "           0       0.11      0.63      0.19      1088\n",
      "           1       0.93      0.51      0.66     10912\n",
      "\n",
      "    accuracy                           0.52     12000\n",
      "   macro avg       0.52      0.57      0.43     12000\n",
      "weighted avg       0.86      0.52      0.62     12000\n",
      "\n"
     ]
    }
   ],
   "source": [
    "# By using the cosine similarity to identify which reviews having the spoiler\n",
    "a = similarity_predict(x_train,0.9)\n",
    "b = similarity_predict(x_test,0.9)\n",
    "\n",
    "sim_train_pred = pd.DataFrame(a)\n",
    "sim_test_pred  = pd.DataFrame(b)\n",
    "\n",
    "print(classification_report(sim_train_pred,Y_train))\n",
    "print(classification_report(sim_test_pred,Y_test))\n",
    "\n",
    "# print(\"AUC Score\")\n",
    "# from sklearn.metrics import roc_auc_score\n",
    "# print(roc_auc_score(Y_test, sim_test_pred))"
   ]
  },
  {
   "cell_type": "markdown",
   "id": "9574d049",
   "metadata": {
    "papermill": {
     "duration": 0.035664,
     "end_time": "2022-03-19T18:29:04.158691",
     "exception": false,
     "start_time": "2022-03-19T18:29:04.123027",
     "status": "completed"
    },
    "tags": []
   },
   "source": [
    "## USing MLP Regressor in word embedding for the classification of spoilers"
   ]
  },
  {
   "cell_type": "code",
   "execution_count": 33,
   "id": "81a461bf",
   "metadata": {
    "execution": {
     "iopub.execute_input": "2022-03-19T18:29:04.245253Z",
     "iopub.status.busy": "2022-03-19T18:29:04.236383Z",
     "iopub.status.idle": "2022-03-19T18:30:14.012680Z",
     "shell.execute_reply": "2022-03-19T18:30:14.012151Z",
     "shell.execute_reply.started": "2022-03-12T20:28:51.68029Z"
    },
    "papermill": {
     "duration": 69.818274,
     "end_time": "2022-03-19T18:30:14.012841",
     "exception": false,
     "start_time": "2022-03-19T18:29:04.194567",
     "status": "completed"
    },
    "tags": []
   },
   "outputs": [],
   "source": [
    "# transform the trainng and development data\n",
    "processed_train = transform(x_train)\n",
    "processed_test  = transform(x_test)"
   ]
  },
  {
   "cell_type": "code",
   "execution_count": 34,
   "id": "14cbe4ef",
   "metadata": {
    "execution": {
     "iopub.execute_input": "2022-03-19T18:30:14.089982Z",
     "iopub.status.busy": "2022-03-19T18:30:14.089308Z",
     "iopub.status.idle": "2022-03-19T18:35:49.268041Z",
     "shell.execute_reply": "2022-03-19T18:35:49.269158Z",
     "shell.execute_reply.started": "2022-03-12T20:30:00.351922Z"
    },
    "papermill": {
     "duration": 335.220478,
     "end_time": "2022-03-19T18:35:49.269415",
     "exception": false,
     "start_time": "2022-03-19T18:30:14.048937",
     "status": "completed"
    },
    "tags": []
   },
   "outputs": [
    {
     "name": "stderr",
     "output_type": "stream",
     "text": [
      "/opt/conda/lib/python3.7/site-packages/sklearn/neural_network/_multilayer_perceptron.py:585: ConvergenceWarning: Stochastic Optimizer: Maximum iterations (80) reached and the optimization hasn't converged yet.\n",
      "  % self.max_iter, ConvergenceWarning)\n"
     ]
    },
    {
     "name": "stdout",
     "output_type": "stream",
     "text": [
      "              precision    recall  f1-score   support\n",
      "\n",
      "           0       0.62      0.62      0.62      5976\n",
      "           1       0.62      0.62      0.62      6024\n",
      "\n",
      "    accuracy                           0.62     12000\n",
      "   macro avg       0.62      0.62      0.62     12000\n",
      "weighted avg       0.62      0.62      0.62     12000\n",
      "\n"
     ]
    }
   ],
   "source": [
    "# multilayer perceptron clssifier \n",
    "from sklearn.neural_network import MLPClassifier\n",
    "clf = MLPClassifier( max_iter=80,hidden_layer_sizes=(400,400,400)).fit(processed_train,Y_train) # y - gold_label of df_train\n",
    "\n",
    "test_pred_processed = clf.predict(processed_test)\n",
    "print(classification_report(test_pred_processed,Y_test)) "
   ]
  },
  {
   "cell_type": "code",
   "execution_count": 35,
   "id": "de87ca95",
   "metadata": {
    "execution": {
     "iopub.execute_input": "2022-03-19T18:35:49.390463Z",
     "iopub.status.busy": "2022-03-19T18:35:49.389598Z",
     "iopub.status.idle": "2022-03-19T18:35:49.396899Z",
     "shell.execute_reply": "2022-03-19T18:35:49.397524Z",
     "shell.execute_reply.started": "2022-03-12T20:35:16.579906Z"
    },
    "papermill": {
     "duration": 0.058326,
     "end_time": "2022-03-19T18:35:49.397706",
     "exception": false,
     "start_time": "2022-03-19T18:35:49.339380",
     "status": "completed"
    },
    "tags": []
   },
   "outputs": [
    {
     "name": "stdout",
     "output_type": "stream",
     "text": [
      "0.6215817510984383\n"
     ]
    }
   ],
   "source": [
    "from sklearn.metrics import roc_auc_score\n",
    "print(roc_auc_score(Y_test, test_pred_processed))"
   ]
  },
  {
   "cell_type": "code",
   "execution_count": null,
   "id": "74768dd8",
   "metadata": {
    "papermill": {
     "duration": 0.036582,
     "end_time": "2022-03-19T18:35:49.471470",
     "exception": false,
     "start_time": "2022-03-19T18:35:49.434888",
     "status": "completed"
    },
    "tags": []
   },
   "outputs": [],
   "source": []
  }
 ],
 "metadata": {
  "kernelspec": {
   "display_name": "Python 3",
   "language": "python",
   "name": "python3"
  },
  "language_info": {
   "codemirror_mode": {
    "name": "ipython",
    "version": 3
   },
   "file_extension": ".py",
   "mimetype": "text/x-python",
   "name": "python",
   "nbconvert_exporter": "python",
   "pygments_lexer": "ipython3",
   "version": "3.7.12"
  },
  "papermill": {
   "default_parameters": {},
   "duration": 1314.256974,
   "end_time": "2022-03-19T18:35:52.220169",
   "environment_variables": {},
   "exception": null,
   "input_path": "__notebook__.ipynb",
   "output_path": "__notebook__.ipynb",
   "parameters": {},
   "start_time": "2022-03-19T18:13:57.963195",
   "version": "2.3.3"
  }
 },
 "nbformat": 4,
 "nbformat_minor": 5
}
